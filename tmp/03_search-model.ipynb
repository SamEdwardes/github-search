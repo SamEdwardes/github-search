{
 "cells": [
  {
   "cell_type": "code",
   "execution_count": 52,
   "metadata": {},
   "outputs": [],
   "source": [
    "import pandas as pd\n",
    "import numpy as np\n",
    "import os\n",
    "import re\n",
    "\n",
    "from sklearn.feature_extraction.text import CountVectorizer, TfidfVectorizer\n",
    "from sklearn.metrics.pairwise import cosine_similarity"
   ]
  },
  {
   "cell_type": "code",
   "execution_count": 12,
   "metadata": {},
   "outputs": [],
   "source": [
    "pd.set_option('display.max_rows', 500)"
   ]
  },
  {
   "cell_type": "markdown",
   "metadata": {},
   "source": [
    "## Reference\n",
    "\n",
    "- https://medium.com/@deangelaneves/how-to-build-a-search-engine-from-scratch-in-python-part-1-96eb240f9ecb"
   ]
  },
  {
   "cell_type": "code",
   "execution_count": 13,
   "metadata": {},
   "outputs": [
    {
     "data": {
      "text/html": [
       "<div>\n",
       "<style scoped>\n",
       "    .dataframe tbody tr th:only-of-type {\n",
       "        vertical-align: middle;\n",
       "    }\n",
       "\n",
       "    .dataframe tbody tr th {\n",
       "        vertical-align: top;\n",
       "    }\n",
       "\n",
       "    .dataframe thead th {\n",
       "        text-align: right;\n",
       "    }\n",
       "</style>\n",
       "<table border=\"1\" class=\"dataframe\">\n",
       "  <thead>\n",
       "    <tr style=\"text-align: right;\">\n",
       "      <th></th>\n",
       "      <th>Unnamed: 0</th>\n",
       "      <th>repo_name</th>\n",
       "      <th>repo_full_name</th>\n",
       "      <th>file_name</th>\n",
       "      <th>size</th>\n",
       "      <th>path</th>\n",
       "      <th>url</th>\n",
       "      <th>encoding</th>\n",
       "      <th>content</th>\n",
       "    </tr>\n",
       "  </thead>\n",
       "  <tbody>\n",
       "    <tr>\n",
       "      <th>0</th>\n",
       "      <td>0</td>\n",
       "      <td>DSCI_542_comm-arg_students</td>\n",
       "      <td>MDS-2019-20/DSCI_542_comm-arg_students</td>\n",
       "      <td>README.md</td>\n",
       "      <td>11495</td>\n",
       "      <td>README.md</td>\n",
       "      <td>https://github.ubc.ca/api/v3/repos/MDS-2019-20...</td>\n",
       "      <td>base64</td>\n",
       "      <td>b'# DSCI 542: Communication and Argumentation\\...</td>\n",
       "    </tr>\n",
       "    <tr>\n",
       "      <th>8</th>\n",
       "      <td>8</td>\n",
       "      <td>DSCI_542_comm-arg_students</td>\n",
       "      <td>MDS-2019-20/DSCI_542_comm-arg_students</td>\n",
       "      <td>lab1_solutions.ipynb</td>\n",
       "      <td>16855</td>\n",
       "      <td>lab presentations and solutions/lab1_solutions...</td>\n",
       "      <td>https://github.ubc.ca/api/v3/repos/MDS-2019-20...</td>\n",
       "      <td>base64</td>\n",
       "      <td>b'{\\n \"cells\": [\\n  {\\n   \"cell_type\": \"markdo...</td>\n",
       "    </tr>\n",
       "    <tr>\n",
       "      <th>9</th>\n",
       "      <td>9</td>\n",
       "      <td>DSCI_542_comm-arg_students</td>\n",
       "      <td>MDS-2019-20/DSCI_542_comm-arg_students</td>\n",
       "      <td>lab3_example.ipynb</td>\n",
       "      <td>16479</td>\n",
       "      <td>lab presentations and solutions/lab3_example.i...</td>\n",
       "      <td>https://github.ubc.ca/api/v3/repos/MDS-2019-20...</td>\n",
       "      <td>base64</td>\n",
       "      <td>b'{\\n \"cells\": [\\n  {\\n   \"cell_type\": \"markdo...</td>\n",
       "    </tr>\n",
       "    <tr>\n",
       "      <th>10</th>\n",
       "      <td>10</td>\n",
       "      <td>DSCI_542_comm-arg_students</td>\n",
       "      <td>MDS-2019-20/DSCI_542_comm-arg_students</td>\n",
       "      <td>report.md</td>\n",
       "      <td>7633</td>\n",
       "      <td>lab presentations and solutions/lab4_example/r...</td>\n",
       "      <td>https://github.ubc.ca/api/v3/repos/MDS-2019-20...</td>\n",
       "      <td>base64</td>\n",
       "      <td>b'### Making Dinner Plans With Data Science\\n\\...</td>\n",
       "    </tr>\n",
       "    <tr>\n",
       "      <th>13</th>\n",
       "      <td>13</td>\n",
       "      <td>DSCI_542_comm-arg_students</td>\n",
       "      <td>MDS-2019-20/DSCI_542_comm-arg_students</td>\n",
       "      <td>lecture1.md</td>\n",
       "      <td>7761</td>\n",
       "      <td>lectures/lecture1/lecture1.md</td>\n",
       "      <td>https://github.ubc.ca/api/v3/repos/MDS-2019-20...</td>\n",
       "      <td>base64</td>\n",
       "      <td>b\"DSCI 542: Communication and Argumentation\\n=...</td>\n",
       "    </tr>\n",
       "    <tr>\n",
       "      <th>...</th>\n",
       "      <td>...</td>\n",
       "      <td>...</td>\n",
       "      <td>...</td>\n",
       "      <td>...</td>\n",
       "      <td>...</td>\n",
       "      <td>...</td>\n",
       "      <td>...</td>\n",
       "      <td>...</td>\n",
       "      <td>...</td>\n",
       "    </tr>\n",
       "    <tr>\n",
       "      <th>1976</th>\n",
       "      <td>1976</td>\n",
       "      <td>DSCI_574_spat-temp-mod_students</td>\n",
       "      <td>MDS-2019-20/DSCI_574_spat-temp-mod_students</td>\n",
       "      <td>lab1.md</td>\n",
       "      <td>13972</td>\n",
       "      <td>labs/release/lab1/lab1.md</td>\n",
       "      <td>https://github.ubc.ca/api/v3/repos/MDS-2019-20...</td>\n",
       "      <td>base64</td>\n",
       "      <td>b'DSCI 574 Lab1\\n================\\nMDS 2019/20...</td>\n",
       "    </tr>\n",
       "    <tr>\n",
       "      <th>1985</th>\n",
       "      <td>1985</td>\n",
       "      <td>DSCI_553_stat-inf-2_students</td>\n",
       "      <td>MDS-2019-20/DSCI_553_stat-inf-2_students</td>\n",
       "      <td>README.md</td>\n",
       "      <td>3273</td>\n",
       "      <td>README.md</td>\n",
       "      <td>https://github.ubc.ca/api/v3/repos/MDS-2019-20...</td>\n",
       "      <td>base64</td>\n",
       "      <td>b'# DSCI 553: Statistical Inference and Comput...</td>\n",
       "    </tr>\n",
       "    <tr>\n",
       "      <th>1987</th>\n",
       "      <td>1987</td>\n",
       "      <td>DSCI_553_stat-inf-2_students</td>\n",
       "      <td>MDS-2019-20/DSCI_553_stat-inf-2_students</td>\n",
       "      <td>lab1.ipynb</td>\n",
       "      <td>23360</td>\n",
       "      <td>release/lab1/lab1.ipynb</td>\n",
       "      <td>https://github.ubc.ca/api/v3/repos/MDS-2019-20...</td>\n",
       "      <td>base64</td>\n",
       "      <td>b'{\\n \"cells\": [\\n  {\\n   \"cell_type\": \"markdo...</td>\n",
       "    </tr>\n",
       "    <tr>\n",
       "      <th>1988</th>\n",
       "      <td>1988</td>\n",
       "      <td>DSCI_553_stat-inf-2_students</td>\n",
       "      <td>MDS-2019-20/DSCI_553_stat-inf-2_students</td>\n",
       "      <td>act1.ipynb</td>\n",
       "      <td>33796</td>\n",
       "      <td>release/lec1/act1.ipynb</td>\n",
       "      <td>https://github.ubc.ca/api/v3/repos/MDS-2019-20...</td>\n",
       "      <td>base64</td>\n",
       "      <td>b'{\\n \"cells\": [\\n  {\\n   \"cell_type\": \"markdo...</td>\n",
       "    </tr>\n",
       "    <tr>\n",
       "      <th>1991</th>\n",
       "      <td>1991</td>\n",
       "      <td>DSCI_553_stat-inf-2_students</td>\n",
       "      <td>MDS-2019-20/DSCI_553_stat-inf-2_students</td>\n",
       "      <td>act2.ipynb</td>\n",
       "      <td>28719</td>\n",
       "      <td>release/lec2/act2.ipynb</td>\n",
       "      <td>https://github.ubc.ca/api/v3/repos/MDS-2019-20...</td>\n",
       "      <td>base64</td>\n",
       "      <td>b'{\\n \"cells\": [\\n  {\\n   \"cell_type\": \"markdo...</td>\n",
       "    </tr>\n",
       "  </tbody>\n",
       "</table>\n",
       "<p>552 rows × 9 columns</p>\n",
       "</div>"
      ],
      "text/plain": [
       "      Unnamed: 0                        repo_name  \\\n",
       "0              0       DSCI_542_comm-arg_students   \n",
       "8              8       DSCI_542_comm-arg_students   \n",
       "9              9       DSCI_542_comm-arg_students   \n",
       "10            10       DSCI_542_comm-arg_students   \n",
       "13            13       DSCI_542_comm-arg_students   \n",
       "...          ...                              ...   \n",
       "1976        1976  DSCI_574_spat-temp-mod_students   \n",
       "1985        1985     DSCI_553_stat-inf-2_students   \n",
       "1987        1987     DSCI_553_stat-inf-2_students   \n",
       "1988        1988     DSCI_553_stat-inf-2_students   \n",
       "1991        1991     DSCI_553_stat-inf-2_students   \n",
       "\n",
       "                                   repo_full_name             file_name  \\\n",
       "0          MDS-2019-20/DSCI_542_comm-arg_students             README.md   \n",
       "8          MDS-2019-20/DSCI_542_comm-arg_students  lab1_solutions.ipynb   \n",
       "9          MDS-2019-20/DSCI_542_comm-arg_students    lab3_example.ipynb   \n",
       "10         MDS-2019-20/DSCI_542_comm-arg_students             report.md   \n",
       "13         MDS-2019-20/DSCI_542_comm-arg_students           lecture1.md   \n",
       "...                                           ...                   ...   \n",
       "1976  MDS-2019-20/DSCI_574_spat-temp-mod_students               lab1.md   \n",
       "1985     MDS-2019-20/DSCI_553_stat-inf-2_students             README.md   \n",
       "1987     MDS-2019-20/DSCI_553_stat-inf-2_students            lab1.ipynb   \n",
       "1988     MDS-2019-20/DSCI_553_stat-inf-2_students            act1.ipynb   \n",
       "1991     MDS-2019-20/DSCI_553_stat-inf-2_students            act2.ipynb   \n",
       "\n",
       "       size                                               path  \\\n",
       "0     11495                                          README.md   \n",
       "8     16855  lab presentations and solutions/lab1_solutions...   \n",
       "9     16479  lab presentations and solutions/lab3_example.i...   \n",
       "10     7633  lab presentations and solutions/lab4_example/r...   \n",
       "13     7761                      lectures/lecture1/lecture1.md   \n",
       "...     ...                                                ...   \n",
       "1976  13972                          labs/release/lab1/lab1.md   \n",
       "1985   3273                                          README.md   \n",
       "1987  23360                            release/lab1/lab1.ipynb   \n",
       "1988  33796                            release/lec1/act1.ipynb   \n",
       "1991  28719                            release/lec2/act2.ipynb   \n",
       "\n",
       "                                                    url encoding  \\\n",
       "0     https://github.ubc.ca/api/v3/repos/MDS-2019-20...   base64   \n",
       "8     https://github.ubc.ca/api/v3/repos/MDS-2019-20...   base64   \n",
       "9     https://github.ubc.ca/api/v3/repos/MDS-2019-20...   base64   \n",
       "10    https://github.ubc.ca/api/v3/repos/MDS-2019-20...   base64   \n",
       "13    https://github.ubc.ca/api/v3/repos/MDS-2019-20...   base64   \n",
       "...                                                 ...      ...   \n",
       "1976  https://github.ubc.ca/api/v3/repos/MDS-2019-20...   base64   \n",
       "1985  https://github.ubc.ca/api/v3/repos/MDS-2019-20...   base64   \n",
       "1987  https://github.ubc.ca/api/v3/repos/MDS-2019-20...   base64   \n",
       "1988  https://github.ubc.ca/api/v3/repos/MDS-2019-20...   base64   \n",
       "1991  https://github.ubc.ca/api/v3/repos/MDS-2019-20...   base64   \n",
       "\n",
       "                                                content  \n",
       "0     b'# DSCI 542: Communication and Argumentation\\...  \n",
       "8     b'{\\n \"cells\": [\\n  {\\n   \"cell_type\": \"markdo...  \n",
       "9     b'{\\n \"cells\": [\\n  {\\n   \"cell_type\": \"markdo...  \n",
       "10    b'### Making Dinner Plans With Data Science\\n\\...  \n",
       "13    b\"DSCI 542: Communication and Argumentation\\n=...  \n",
       "...                                                 ...  \n",
       "1976  b'DSCI 574 Lab1\\n================\\nMDS 2019/20...  \n",
       "1985  b'# DSCI 553: Statistical Inference and Comput...  \n",
       "1987  b'{\\n \"cells\": [\\n  {\\n   \"cell_type\": \"markdo...  \n",
       "1988  b'{\\n \"cells\": [\\n  {\\n   \"cell_type\": \"markdo...  \n",
       "1991  b'{\\n \"cells\": [\\n  {\\n   \"cell_type\": \"markdo...  \n",
       "\n",
       "[552 rows x 9 columns]"
      ]
     },
     "execution_count": 13,
     "metadata": {},
     "output_type": "execute_result"
    }
   ],
   "source": [
    "df = pd.read_csv(\"data/2020-02-27_student-repos.csv\")\n",
    "df = df[df[\"content\"] != \"not read\"]\n",
    "df"
   ]
  },
  {
   "cell_type": "code",
   "execution_count": 19,
   "metadata": {},
   "outputs": [],
   "source": [
    "def text_preprocess(x):\n",
    "    regex = re.compile('[^a-zA-Z ]')\n",
    "    x = regex.sub('', x)\n",
    "    x = x.lower()\n",
    "    return x"
   ]
  },
  {
   "cell_type": "code",
   "execution_count": 20,
   "metadata": {},
   "outputs": [
    {
     "data": {
      "text/plain": [
       "0       b dsci  communication and argumentationnn todo...\n",
       "8       bn cells n  n   celltype markdownn   metadata ...\n",
       "9       bn cells n  n   celltype markdownn   metadata ...\n",
       "10      b making dinner plans with data sciencennthere...\n",
       "13      bdsci  communication and argumentationnnauthor...\n",
       "                              ...                        \n",
       "1976    bdsci  labnnmds  block  instructor tomas beuze...\n",
       "1985    b dsci  statistical inference and computation ...\n",
       "1987    bn cells n  n   celltype markdownn   metadata ...\n",
       "1988    bn cells n  n   celltype markdownn   metadata ...\n",
       "1991    bn cells n  n   celltype markdownn   metadata ...\n",
       "Name: content_clean, Length: 552, dtype: object"
      ]
     },
     "execution_count": 20,
     "metadata": {},
     "output_type": "execute_result"
    }
   ],
   "source": [
    "df[\"content_clean\"] = df.loc[:,\"content\"].apply(text_preprocess)\n",
    "df[\"content_clean\"]"
   ]
  },
  {
   "cell_type": "code",
   "execution_count": 22,
   "metadata": {},
   "outputs": [],
   "source": [
    "tfid_vectorizer = TfidfVectorizer(stop_words=\"english\", ngram_range=(1,4))\n",
    "X = tfid_vectorizer.fit_transform(df[\"content_clean\"])\n",
    "\n",
    "pd.DataFrame(data=X.toarray(), columns=tfid_vectorizer.get_feature_names())"
   ]
  },
  {
   "cell_type": "code",
   "execution_count": 69,
   "metadata": {},
   "outputs": [
    {
     "ename": "ValueError",
     "evalue": "Iterable over raw text documents expected, string object received.",
     "output_type": "error",
     "traceback": [
      "\u001b[0;31m---------------------------------------------------------------------------\u001b[0m",
      "\u001b[0;31mValueError\u001b[0m                                Traceback (most recent call last)",
      "\u001b[0;32m<ipython-input-69-f29f97f4bc52>\u001b[0m in \u001b[0;36m<module>\u001b[0;34m\u001b[0m\n\u001b[1;32m      1\u001b[0m \u001b[0msearch_keys\u001b[0m \u001b[0;34m=\u001b[0m \u001b[0;34m\"mle pandas\"\u001b[0m\u001b[0;34m\u001b[0m\u001b[0;34m\u001b[0m\u001b[0m\n\u001b[1;32m      2\u001b[0m \u001b[0mquery\u001b[0m \u001b[0;34m=\u001b[0m \u001b[0;34m\"mle pandas\"\u001b[0m\u001b[0;34m\u001b[0m\u001b[0;34m\u001b[0m\u001b[0m\n\u001b[0;32m----> 3\u001b[0;31m \u001b[0msearch_query_weights\u001b[0m \u001b[0;34m=\u001b[0m \u001b[0mtfid_vectorizer\u001b[0m\u001b[0;34m.\u001b[0m\u001b[0mtransform\u001b[0m\u001b[0;34m(\u001b[0m\u001b[0msearch_keys\u001b[0m\u001b[0;34m)\u001b[0m\u001b[0;34m\u001b[0m\u001b[0;34m\u001b[0m\u001b[0m\n\u001b[0m\u001b[1;32m      4\u001b[0m \u001b[0msearch_query_weights\u001b[0m\u001b[0;34m.\u001b[0m\u001b[0mtoarray\u001b[0m\u001b[0;34m(\u001b[0m\u001b[0;34m)\u001b[0m\u001b[0;34m\u001b[0m\u001b[0;34m\u001b[0m\u001b[0m\n",
      "\u001b[0;32m~/miniconda3/lib/python3.7/site-packages/sklearn/feature_extraction/text.py\u001b[0m in \u001b[0;36mtransform\u001b[0;34m(self, raw_documents, copy)\u001b[0m\n\u001b[1;32m   1896\u001b[0m                    \"be removed in 0.24.\")\n\u001b[1;32m   1897\u001b[0m             \u001b[0mwarnings\u001b[0m\u001b[0;34m.\u001b[0m\u001b[0mwarn\u001b[0m\u001b[0;34m(\u001b[0m\u001b[0mmsg\u001b[0m\u001b[0;34m,\u001b[0m \u001b[0mFutureWarning\u001b[0m\u001b[0;34m)\u001b[0m\u001b[0;34m\u001b[0m\u001b[0;34m\u001b[0m\u001b[0m\n\u001b[0;32m-> 1898\u001b[0;31m         \u001b[0mX\u001b[0m \u001b[0;34m=\u001b[0m \u001b[0msuper\u001b[0m\u001b[0;34m(\u001b[0m\u001b[0;34m)\u001b[0m\u001b[0;34m.\u001b[0m\u001b[0mtransform\u001b[0m\u001b[0;34m(\u001b[0m\u001b[0mraw_documents\u001b[0m\u001b[0;34m)\u001b[0m\u001b[0;34m\u001b[0m\u001b[0;34m\u001b[0m\u001b[0m\n\u001b[0m\u001b[1;32m   1899\u001b[0m         \u001b[0;32mreturn\u001b[0m \u001b[0mself\u001b[0m\u001b[0;34m.\u001b[0m\u001b[0m_tfidf\u001b[0m\u001b[0;34m.\u001b[0m\u001b[0mtransform\u001b[0m\u001b[0;34m(\u001b[0m\u001b[0mX\u001b[0m\u001b[0;34m,\u001b[0m \u001b[0mcopy\u001b[0m\u001b[0;34m=\u001b[0m\u001b[0;32mFalse\u001b[0m\u001b[0;34m)\u001b[0m\u001b[0;34m\u001b[0m\u001b[0;34m\u001b[0m\u001b[0m\n\u001b[1;32m   1900\u001b[0m \u001b[0;34m\u001b[0m\u001b[0m\n",
      "\u001b[0;32m~/miniconda3/lib/python3.7/site-packages/sklearn/feature_extraction/text.py\u001b[0m in \u001b[0;36mtransform\u001b[0;34m(self, raw_documents)\u001b[0m\n\u001b[1;32m   1263\u001b[0m         \u001b[0;32mif\u001b[0m \u001b[0misinstance\u001b[0m\u001b[0;34m(\u001b[0m\u001b[0mraw_documents\u001b[0m\u001b[0;34m,\u001b[0m \u001b[0mstr\u001b[0m\u001b[0;34m)\u001b[0m\u001b[0;34m:\u001b[0m\u001b[0;34m\u001b[0m\u001b[0;34m\u001b[0m\u001b[0m\n\u001b[1;32m   1264\u001b[0m             raise ValueError(\n\u001b[0;32m-> 1265\u001b[0;31m                 \u001b[0;34m\"Iterable over raw text documents expected, \"\u001b[0m\u001b[0;34m\u001b[0m\u001b[0;34m\u001b[0m\u001b[0m\n\u001b[0m\u001b[1;32m   1266\u001b[0m                 \"string object received.\")\n\u001b[1;32m   1267\u001b[0m         \u001b[0mself\u001b[0m\u001b[0;34m.\u001b[0m\u001b[0m_check_vocabulary\u001b[0m\u001b[0;34m(\u001b[0m\u001b[0;34m)\u001b[0m\u001b[0;34m\u001b[0m\u001b[0;34m\u001b[0m\u001b[0m\n",
      "\u001b[0;31mValueError\u001b[0m: Iterable over raw text documents expected, string object received."
     ]
    }
   ],
   "source": [
    "search_keys = \"mle pandas\"\n",
    "query = \"momle pandas\"\n",
    "search_query_weights = tfid_vectorizer.transform(search_keys)\n",
    "search_query_weights.toarray()"
   ]
  },
  {
   "cell_type": "code",
   "execution_count": 67,
   "metadata": {},
   "outputs": [],
   "source": [
    "def train_model(X_train):\n",
    "    tfid_vectorizer = TfidfVectorizer(stop_words=\"english\", ngram_range=(1,4))\n",
    "    X_train_weights = tfid_vectorizer.fit_transform(X_train)\n",
    "    return (tfid_vectorizer, X_train_weights)"
   ]
  },
  {
   "cell_type": "code",
   "execution_count": 70,
   "metadata": {},
   "outputs": [],
   "source": [
    "tfid_vectorizer, X_train_weights = train_model(df[\"content\"])"
   ]
  },
  {
   "cell_type": "code",
   "execution_count": 85,
   "metadata": {},
   "outputs": [
    {
     "data": {
      "text/plain": [
       "(4617429,)"
      ]
     },
     "execution_count": 85,
     "metadata": {},
     "output_type": "execute_result"
    }
   ],
   "source": [
    "tfid_vectorizer.idf_.shape"
   ]
  },
  {
   "cell_type": "code",
   "execution_count": 73,
   "metadata": {},
   "outputs": [],
   "source": [
    "def find_query_weights(X_query, tfid_vectorizer):\n",
    "    X_query = text_preprocess(X_query)\n",
    "    X_query_weights = tfid_vectorizer.transform([X_query])\n",
    "    return X_query_weights"
   ]
  },
  {
   "cell_type": "code",
   "execution_count": 75,
   "metadata": {},
   "outputs": [
    {
     "name": "stdout",
     "output_type": "stream",
     "text": [
      "mle pandas\n"
     ]
    },
    {
     "data": {
      "text/plain": [
       "<1x4617429 sparse matrix of type '<class 'numpy.float64'>'\n",
       "\twith 2 stored elements in Compressed Sparse Row format>"
      ]
     },
     "execution_count": 75,
     "metadata": {},
     "output_type": "execute_result"
    }
   ],
   "source": [
    "X_query_weights = find_query_weights(\"MLE pandas\", tfid_vectorizer)\n",
    "X_query_weights"
   ]
  },
  {
   "cell_type": "code",
   "execution_count": 44,
   "metadata": {},
   "outputs": [],
   "source": [
    "def cos_similarity(X_query_weights, X_train_weights):\n",
    "    cosine_distance = cosine_similarity(X_query_weights, X_train_weights)\n",
    "    similarity_list = cosine_distance[0]\n",
    "    return similarity_list"
   ]
  },
  {
   "cell_type": "code",
   "execution_count": 76,
   "metadata": {},
   "outputs": [
    {
     "data": {
      "text/plain": [
       "array([0., 0., 0., 0.])"
      ]
     },
     "execution_count": 76,
     "metadata": {},
     "output_type": "execute_result"
    }
   ],
   "source": [
    "sim_list = cos_similarity(X_query_weights, X_train_weights)\n",
    "sim_list[0:4]"
   ]
  },
  {
   "cell_type": "code",
   "execution_count": 78,
   "metadata": {},
   "outputs": [],
   "source": [
    "def most_similar(similarity_list, min_talks=4):\n",
    "    most_similar= []\n",
    "    while min_talks > 0:\n",
    "        tmp_index = np.argmax(similarity_list)\n",
    "        most_similar.append(tmp_index)\n",
    "        similarity_list[tmp_index] = 0\n",
    "        min_talks -= 1\n",
    "    return most_similar"
   ]
  },
  {
   "cell_type": "code",
   "execution_count": 81,
   "metadata": {},
   "outputs": [
    {
     "data": {
      "text/plain": [
       "[318, 62, 278, 464, 110]"
      ]
     },
     "execution_count": 81,
     "metadata": {},
     "output_type": "execute_result"
    }
   ],
   "source": [
    "top_hits = most_similar(sim_list, 5)\n",
    "top_hits"
   ]
  },
  {
   "cell_type": "code",
   "execution_count": 82,
   "metadata": {},
   "outputs": [
    {
     "data": {
      "text/html": [
       "<div>\n",
       "<style scoped>\n",
       "    .dataframe tbody tr th:only-of-type {\n",
       "        vertical-align: middle;\n",
       "    }\n",
       "\n",
       "    .dataframe tbody tr th {\n",
       "        vertical-align: top;\n",
       "    }\n",
       "\n",
       "    .dataframe thead th {\n",
       "        text-align: right;\n",
       "    }\n",
       "</style>\n",
       "<table border=\"1\" class=\"dataframe\">\n",
       "  <thead>\n",
       "    <tr style=\"text-align: right;\">\n",
       "      <th></th>\n",
       "      <th>Unnamed: 0</th>\n",
       "      <th>repo_name</th>\n",
       "      <th>repo_full_name</th>\n",
       "      <th>file_name</th>\n",
       "      <th>size</th>\n",
       "      <th>path</th>\n",
       "      <th>url</th>\n",
       "      <th>encoding</th>\n",
       "      <th>content</th>\n",
       "      <th>content_clean</th>\n",
       "    </tr>\n",
       "  </thead>\n",
       "  <tbody>\n",
       "    <tr>\n",
       "      <th>917</th>\n",
       "      <td>917</td>\n",
       "      <td>DSCI_562_regr-2_students</td>\n",
       "      <td>MDS-2019-20/DSCI_562_regr-2_students</td>\n",
       "      <td>quiz1sol.md</td>\n",
       "      <td>2896</td>\n",
       "      <td>source/practice_quizzes/quiz1/quiz1sol.md</td>\n",
       "      <td>https://github.ubc.ca/api/v3/repos/MDS-2019-20...</td>\n",
       "      <td>base64</td>\n",
       "      <td>b'# quiz1\\nrubric={raw:30}\\n\\nInstructions:\\n\\...</td>\n",
       "      <td>b quiznrubricrawnninstructionsnn never respond...</td>\n",
       "    </tr>\n",
       "    <tr>\n",
       "      <th>260</th>\n",
       "      <td>260</td>\n",
       "      <td>DSCI_523_data-wrangling_students</td>\n",
       "      <td>MDS-2019-20/DSCI_523_data-wrangling_students</td>\n",
       "      <td>05_lecture-numpy-and-pandas.ipynb</td>\n",
       "      <td>51329</td>\n",
       "      <td>lectures/05_lecture-numpy-and-pandas.ipynb</td>\n",
       "      <td>https://github.ubc.ca/api/v3/repos/MDS-2019-20...</td>\n",
       "      <td>base64</td>\n",
       "      <td>b'{\\n \"cells\": [\\n  {\\n   \"cell_type\": \"markdo...</td>\n",
       "      <td>bn cells n  n   celltype markdownn   metadata ...</td>\n",
       "    </tr>\n",
       "    <tr>\n",
       "      <th>851</th>\n",
       "      <td>851</td>\n",
       "      <td>DSCI_562_regr-2_students</td>\n",
       "      <td>MDS-2019-20/DSCI_562_regr-2_students</td>\n",
       "      <td>lab1sol.md</td>\n",
       "      <td>20742</td>\n",
       "      <td>source/lab1/lab1sol.md</td>\n",
       "      <td>https://github.ubc.ca/api/v3/repos/MDS-2019-20...</td>\n",
       "      <td>base64</td>\n",
       "      <td>b'---\\ntitle: \"DSCI 562 Lab 1: Parametric Assu...</td>\n",
       "      <td>bntitle dsci  lab  parametric assumptions and ...</td>\n",
       "    </tr>\n",
       "    <tr>\n",
       "      <th>1669</th>\n",
       "      <td>1669</td>\n",
       "      <td>DSCI_513_database-data-retr_students</td>\n",
       "      <td>MDS-2019-20/DSCI_513_database-data-retr_students</td>\n",
       "      <td>lab1.md</td>\n",
       "      <td>19812</td>\n",
       "      <td>source/lab1/lab1.md</td>\n",
       "      <td>https://github.ubc.ca/api/v3/repos/MDS-2019-20...</td>\n",
       "      <td>base64</td>\n",
       "      <td>b'# Lab 1 - SQL Basic Queries\\n\\n## Submission...</td>\n",
       "      <td>b lab   sql basic queriesnn submission instruc...</td>\n",
       "    </tr>\n",
       "    <tr>\n",
       "      <th>431</th>\n",
       "      <td>431</td>\n",
       "      <td>DSCI_531_viz-1_students</td>\n",
       "      <td>MDS-2019-20/DSCI_531_viz-1_students</td>\n",
       "      <td>Lecture7_worksheet.ipynb</td>\n",
       "      <td>8066</td>\n",
       "      <td>participation/Lecture7_worksheet.ipynb</td>\n",
       "      <td>https://github.ubc.ca/api/v3/repos/MDS-2019-20...</td>\n",
       "      <td>base64</td>\n",
       "      <td>b'{\\n \"cells\": [\\n  {\\n   \"cell_type\": \"markdo...</td>\n",
       "      <td>bn cells n  n   celltype markdownn   metadata ...</td>\n",
       "    </tr>\n",
       "  </tbody>\n",
       "</table>\n",
       "</div>"
      ],
      "text/plain": [
       "      Unnamed: 0                             repo_name  \\\n",
       "917          917              DSCI_562_regr-2_students   \n",
       "260          260      DSCI_523_data-wrangling_students   \n",
       "851          851              DSCI_562_regr-2_students   \n",
       "1669        1669  DSCI_513_database-data-retr_students   \n",
       "431          431               DSCI_531_viz-1_students   \n",
       "\n",
       "                                        repo_full_name  \\\n",
       "917               MDS-2019-20/DSCI_562_regr-2_students   \n",
       "260       MDS-2019-20/DSCI_523_data-wrangling_students   \n",
       "851               MDS-2019-20/DSCI_562_regr-2_students   \n",
       "1669  MDS-2019-20/DSCI_513_database-data-retr_students   \n",
       "431                MDS-2019-20/DSCI_531_viz-1_students   \n",
       "\n",
       "                              file_name   size  \\\n",
       "917                         quiz1sol.md   2896   \n",
       "260   05_lecture-numpy-and-pandas.ipynb  51329   \n",
       "851                          lab1sol.md  20742   \n",
       "1669                            lab1.md  19812   \n",
       "431            Lecture7_worksheet.ipynb   8066   \n",
       "\n",
       "                                            path  \\\n",
       "917    source/practice_quizzes/quiz1/quiz1sol.md   \n",
       "260   lectures/05_lecture-numpy-and-pandas.ipynb   \n",
       "851                       source/lab1/lab1sol.md   \n",
       "1669                         source/lab1/lab1.md   \n",
       "431       participation/Lecture7_worksheet.ipynb   \n",
       "\n",
       "                                                    url encoding  \\\n",
       "917   https://github.ubc.ca/api/v3/repos/MDS-2019-20...   base64   \n",
       "260   https://github.ubc.ca/api/v3/repos/MDS-2019-20...   base64   \n",
       "851   https://github.ubc.ca/api/v3/repos/MDS-2019-20...   base64   \n",
       "1669  https://github.ubc.ca/api/v3/repos/MDS-2019-20...   base64   \n",
       "431   https://github.ubc.ca/api/v3/repos/MDS-2019-20...   base64   \n",
       "\n",
       "                                                content  \\\n",
       "917   b'# quiz1\\nrubric={raw:30}\\n\\nInstructions:\\n\\...   \n",
       "260   b'{\\n \"cells\": [\\n  {\\n   \"cell_type\": \"markdo...   \n",
       "851   b'---\\ntitle: \"DSCI 562 Lab 1: Parametric Assu...   \n",
       "1669  b'# Lab 1 - SQL Basic Queries\\n\\n## Submission...   \n",
       "431   b'{\\n \"cells\": [\\n  {\\n   \"cell_type\": \"markdo...   \n",
       "\n",
       "                                          content_clean  \n",
       "917   b quiznrubricrawnninstructionsnn never respond...  \n",
       "260   bn cells n  n   celltype markdownn   metadata ...  \n",
       "851   bntitle dsci  lab  parametric assumptions and ...  \n",
       "1669  b lab   sql basic queriesnn submission instruc...  \n",
       "431   bn cells n  n   celltype markdownn   metadata ...  "
      ]
     },
     "execution_count": 82,
     "metadata": {},
     "output_type": "execute_result"
    }
   ],
   "source": [
    "df.iloc[top_hits,]"
   ]
  },
  {
   "cell_type": "code",
   "execution_count": 59,
   "metadata": {},
   "outputs": [
    {
     "data": {
      "text/plain": [
       "'https://github.ubc.ca/api/v3/repos/MDS-2019-20/DSCI_552_stat-inf-1_students/contents/previous-lectures/08_lecture-maximum-likelihood-estimation.ipynb?ref=master'"
      ]
     },
     "execution_count": 59,
     "metadata": {},
     "output_type": "execute_result"
    }
   ],
   "source": [
    "df.iloc[436,][\"url\"]"
   ]
  },
  {
   "cell_type": "code",
   "execution_count": 64,
   "metadata": {},
   "outputs": [
    {
     "data": {
      "text/plain": [
       "Unnamed: 0                                                      888\n",
       "repo_name                                  DSCI_562_regr-2_students\n",
       "repo_full_name                 MDS-2019-20/DSCI_562_regr-2_students\n",
       "file_name                                                 README.md\n",
       "size                                                           4235\n",
       "path                                   lectures/2018/lec4/README.md\n",
       "url               https://github.ubc.ca/api/v3/repos/MDS-2019-20...\n",
       "encoding                                                     base64\n",
       "content           b'# Lecture 4\\n\\n## Agenda\\n\\n- Re-address the...\n",
       "content_clean     b lecture nn agendann readdress the table from...\n",
       "Name: 888, dtype: object"
      ]
     },
     "execution_count": 64,
     "metadata": {},
     "output_type": "execute_result"
    }
   ],
   "source": [
    "df.iloc[303,]\n"
   ]
  },
  {
   "cell_type": "code",
   "execution_count": null,
   "metadata": {},
   "outputs": [],
   "source": []
  }
 ],
 "metadata": {
  "kernelspec": {
   "display_name": "Python 3",
   "language": "python",
   "name": "python3"
  },
  "language_info": {
   "codemirror_mode": {
    "name": "ipython",
    "version": 3
   },
   "file_extension": ".py",
   "mimetype": "text/x-python",
   "name": "python",
   "nbconvert_exporter": "python",
   "pygments_lexer": "ipython3",
   "version": "3.7.6"
  }
 },
 "nbformat": 4,
 "nbformat_minor": 4
}
